{
 "cells": [
  {
   "cell_type": "markdown",
   "id": "cd1e6a2a-c537-448d-b2b3-9a0d725f93d7",
   "metadata": {
    "tags": []
   },
   "source": [
    "# Lightweight Fine-Tuning Project"
   ]
  },
  {
   "cell_type": "markdown",
   "id": "b8b0c443-c53e-4ab5-880b-2f5426536e0a",
   "metadata": {},
   "source": [
    "Below I list the PEFT technique, the model, evaluation approach and fine-tunning dataset I'll be using to fine tune the LLM\n",
    "* PEFT technique: LoRA\n",
    "* Model: Llama 3.1 8B\n",
    "* Evaluation approach: Hugging Face Trainer.evaluate\n",
    "* Fine-tuning dataset: [AuthorMix](https://huggingface.co/datasets/hallisky/AuthorMix)"
   ]
  },
  {
   "cell_type": "markdown",
   "id": "c9a20aa8-1dda-4a38-a501-7b06fb61ed8d",
   "metadata": {},
   "source": [
    "## Loading and Evaluating a Foundation Model\n",
    "\n",
    "Loading Llama 3.1 8B model and evaluate its performance prior to fine-tuning. This includes loading an appropriate tokenizer and dataset."
   ]
  },
  {
   "cell_type": "markdown",
   "id": "58143446-4483-4e1f-9e55-c54d719d01da",
   "metadata": {},
   "source": [
    "## Load in IMDB Dataset"
   ]
  },
  {
   "cell_type": "code",
   "execution_count": 9,
   "id": "8918ad8a-b8de-4a6c-87c6-1a2ad236fbba",
   "metadata": {
    "tags": []
   },
   "outputs": [
    {
     "data": {
      "text/plain": [
       "{'train': Dataset({\n",
       "     features: ['style', 'text', 'category'],\n",
       "     num_rows: 14579\n",
       " }),\n",
       " 'test': Dataset({\n",
       "     features: ['style', 'text', 'category'],\n",
       "     num_rows: 4747\n",
       " })}"
      ]
     },
     "execution_count": 9,
     "metadata": {},
     "output_type": "execute_result"
    }
   ],
   "source": [
    "from datasets import load_dataset\n",
    "\n",
    "# Load the train and test splits of the imdb dataset\n",
    "splits = [\"train\", \"test\"]\n",
    "ds = {\n",
    "    split: ds for split,\n",
    "    ds in zip(splits, load_dataset(\"hallisky/AuthorMix\", split=splits))\n",
    "}\n",
    "\n",
    "# Thin out the dataset to make it run faster for this example\n",
    "for split in splits:\n",
    "    ds[split] = ds[split].shuffle(seed=42)\n",
    "\n",
    "# Show the dataset\n",
    "ds"
   ]
  },
  {
   "cell_type": "markdown",
   "id": "f6856202-59c2-455e-95ce-3f20ec749bde",
   "metadata": {},
   "source": [
    "### Dataset Exploration"
   ]
  },
  {
   "cell_type": "code",
   "execution_count": 10,
   "id": "92b0c14d-6f47-4031-ab63-f4b680484d44",
   "metadata": {
    "tags": []
   },
   "outputs": [
    {
     "name": "stdout",
     "output_type": "stream",
     "text": [
      "       style                                               text category\n",
      "0  blog11518  \"Jamaia....come and help me talk some sense in...     blog\n",
      "1  blog25872  I decided I wasn't going to go to Boler today....     blog\n",
      "2      obama  For over two decades, bin Laden has been al Qa...   speech\n",
      "3  blog11518  motion with precise timing. Sucking the cigare...     blog\n",
      "4  blog11518  \"So what, we just stand here?\" Alyx prompts, h...     blog\n"
     ]
    }
   ],
   "source": [
    "import pandas as pd\n",
    "\n",
    "train_df = pd.DataFrame(ds['train'])\n",
    "\n",
    "print(train_df.head())"
   ]
  },
  {
   "cell_type": "markdown",
   "id": "b723df4a-f77c-481f-a4c3-46aab12ee804",
   "metadata": {},
   "source": [
    "The dataset contains 14 unique authors"
   ]
  },
  {
   "cell_type": "code",
   "execution_count": 11,
   "id": "55da3da0-d383-4102-a38c-3d642689d940",
   "metadata": {
    "tags": []
   },
   "outputs": [
    {
     "name": "stdout",
     "output_type": "stream",
     "text": [
      "['blog11518' 'blog25872' 'obama' 'fitzgerald' 'hemingway' 'woolf' 'bush'\n",
      " 'blog30102' 'blog5546' 'trump' 'blog30407' 'qq' 'pp' 'h']\n"
     ]
    }
   ],
   "source": [
    "unique_styles = train_df['style'].unique()\n",
    "print(unique_styles)"
   ]
  },
  {
   "cell_type": "markdown",
   "id": "a140e13c-516d-49c6-b1be-2cc84f858800",
   "metadata": {},
   "source": [
    "In 4 number of formats/categories"
   ]
  },
  {
   "cell_type": "code",
   "execution_count": 12,
   "id": "099a092b-1450-4499-a5c8-345a5b40c8c1",
   "metadata": {
    "tags": []
   },
   "outputs": [
    {
     "name": "stdout",
     "output_type": "stream",
     "text": [
      "['blog' 'speech' 'author' 'amt']\n"
     ]
    }
   ],
   "source": [
    "unique_formats = train_df['category'].unique()\n",
    "print(unique_formats)"
   ]
  },
  {
   "cell_type": "markdown",
   "id": "fb9d27df-5594-4981-b4bc-e13cb280c6b8",
   "metadata": {},
   "source": [
    "Dataset sample text length just skew towards 335 characters or less "
   ]
  },
  {
   "cell_type": "code",
   "execution_count": 13,
   "id": "5a869c4b-ac04-40f6-9e0e-4c4a89d805fe",
   "metadata": {
    "tags": []
   },
   "outputs": [
    {
     "data": {
      "image/png": "[encoded data removed]",
      "text/plain": [
       "<Figure size 1000x600 with 1 Axes>"
      ]
     },
     "metadata": {},
     "output_type": "display_data"
    }
   ],
   "source": [
    "import matplotlib.pyplot as plt\n",
    "\n",
    "train_df['text_length'] = train_df['text'].str.len()\n",
    "plt.figure(figsize=(10, 6))\n",
    "plt.hist(train_df['text_length'], bins=30, edgecolor='black')\n",
    "plt.title('Distribution of Text Lengths')\n",
    "plt.xlabel('Text Length')\n",
    "plt.ylabel('Frequency')\n",
    "plt.grid(True)\n",
    "plt.show()"
   ]
  },
  {
   "cell_type": "markdown",
   "id": "5eafac08-a712-4ede-b84b-d4e16b473877",
   "metadata": {},
   "source": [
    "### Intial Llama 3.1 8B evaluation on the dataset\n",
    "Going to load in the Llama model through AutoModelForSequenceClassification and set the label ids"
   ]
  },
  {
   "cell_type": "code",
   "execution_count": 14,
   "id": "8363fe2a-97b2-43eb-9dcb-8430e7cab142",
   "metadata": {
    "tags": []
   },
   "outputs": [
    {
     "name": "stdout",
     "output_type": "stream",
     "text": [
      "The token has not been saved to the git credentials helper. Pass `add_to_git_credential=True` in this function directly or `--add-to-git-credential` if using via `huggingface-cli` if you want to set the git credential as well.\n",
      "Token is valid (permission: read).\n",
      "Your token has been saved to /Users/david/.cache/huggingface/token\n",
      "Login successful\n"
     ]
    }
   ],
   "source": [
    "import torch\n",
    "import os\n",
    "from dotenv import load_dotenv\n",
    "from huggingface_hub import login\n",
    "\n",
    "load_dotenv(\"env.txt\")\n",
    "hf_token = os.getenv('HF_API_TOKEN')\n",
    "login(hf_token)"
   ]
  },
  {
   "cell_type": "code",
   "execution_count": 15,
   "id": "945e0a85-1e77-4f16-9e5b-439d558fd8ff",
   "metadata": {
    "tags": []
   },
   "outputs": [
    {
     "name": "stderr",
     "output_type": "stream",
     "text": [
      "/Users/david/Personal/Personal-Learning/foundational-modal-tuning/env/lib/python3.12/site-packages/transformers/models/auto/auto_factory.py:469: FutureWarning: The `use_auth_token` argument is deprecated and will be removed in v5 of Transformers. Please use `token` instead.\n",
      "  warnings.warn(\n",
      "Some weights of GPT2ForSequenceClassification were not initialized from the model checkpoint at openai-community/gpt2 and are newly initialized: ['score.weight']\n",
      "You should probably TRAIN this model on a down-stream task to be able to use it for predictions and inference.\n"
     ]
    },
    {
     "name": "stdout",
     "output_type": "stream",
     "text": [
      "num_labels: 14\n",
      "id2label: {0: 'blog11518', 1: 'blog25872', 2: 'obama', 3: 'fitzgerald', 4: 'hemingway', 5: 'woolf', 6: 'bush', 7: 'blog30102', 8: 'blog5546', 9: 'trump', 10: 'blog30407', 11: 'qq', 12: 'pp', 13: 'h'}\n",
      "label2id: {'blog11518': 0, 'blog25872': 1, 'obama': 2, 'fitzgerald': 3, 'hemingway': 4, 'woolf': 5, 'bush': 6, 'blog30102': 7, 'blog5546': 8, 'trump': 9, 'blog30407': 10, 'qq': 11, 'pp': 12, 'h': 13}\n"
     ]
    }
   ],
   "source": [
    "from transformers import AutoModelForSequenceClassification, AutoTokenizer, AutoModelForSequenceClassification\n",
    "\n",
    "num_labels = len(unique_styles)\n",
    "id2label = {i: style for i, style in enumerate(unique_styles)}\n",
    "label2id = {v: k for k, v in id2label.items()}\n",
    "print(f\"num_labels: {num_labels}\")\n",
    "print(f\"id2label: {id2label}\")\n",
    "print(f\"label2id: {label2id}\")\n",
    "\n",
    "model_key = \"openai-community/gpt2\"\n",
    "model = AutoModelForSequenceClassification.from_pretrained(\n",
    "    model_key,\n",
    "    num_labels=num_labels,\n",
    "    id2label=id2label,\n",
    "    label2id=label2id,\n",
    "    use_auth_token=True,\n",
    ")"
   ]
  },
  {
   "cell_type": "markdown",
   "id": "9a8afeba-b459-4541-8ff3-582df2247267",
   "metadata": {},
   "source": [
    "### Preprocess dataset"
   ]
  },
  {
   "cell_type": "code",
   "execution_count": 27,
   "id": "00ae2f67-95d0-4060-92e6-25404179f4b9",
   "metadata": {},
   "outputs": [
    {
     "data": {
      "application/vnd.jupyter.widget-view+json": {
       "model_id": "08edb0b581f745f0bf973f614085be99",
       "version_major": 2,
       "version_minor": 0
      },
      "text/plain": [
       "Map:   0%|          | 0/14579 [00:00<?, ? examples/s]"
      ]
     },
     "metadata": {},
     "output_type": "display_data"
    },
    {
     "data": {
      "application/vnd.jupyter.widget-view+json": {
       "model_id": "7a205b44a86241e698ccd59b14842dcd",
       "version_major": 2,
       "version_minor": 0
      },
      "text/plain": [
       "Map:   0%|          | 0/4747 [00:00<?, ? examples/s]"
      ]
     },
     "metadata": {},
     "output_type": "display_data"
    }
   ],
   "source": [
    "from datasets import DatasetDict\n",
    "\n",
    "# Tokenizer setup\n",
    "tokenizer = AutoTokenizer.from_pretrained(model_key, use_auth_token=True)\n",
    "tokenizer.pad_token = tokenizer.eos_token\n",
    "\n",
    "# Preprocessing function\n",
    "def preprocess_function(examples):\n",
    "    tokens = tokenizer(examples['text'], truncation=True, padding='max_length', max_length=512)\n",
    "    tokens['label'] = [label2id[style] for style in examples['style']]\n",
    "    return tokens\n",
    "    \n",
    "# Tokenize the dataset\n",
    "tokenized_ds = DatasetDict()\n",
    "for split in splits:\n",
    "    tokenized_ds[split] = ds[split].map(preprocess_function, batched=True)\n",
    "\n",
    "model.resize_token_embeddings(len(tokenizer))\n",
    "\n",
    "# Ensure the tokenized dataset is converted to PyTorch tensors\n",
    "tokenized_ds.set_format(type='torch', columns=['input_ids', 'attention_mask', 'label'])\n",
    "\n",
    "# Directly access the batched inputs from the dataset\n",
    "inputs = {\n",
    "    'input_ids': tokenized_ds['test']['input_ids'],\n",
    "    'attention_mask': tokenized_ds['test']['attention_mask'],\n",
    "    'labels': tokenized_ds['test']['label']\n",
    "}\n"
   ]
  },
  {
   "cell_type": "code",
   "execution_count": 28,
   "id": "3a40e515-f8da-4bfb-8907-60fbac376057",
   "metadata": {},
   "outputs": [
    {
     "data": {
      "text/plain": [
       "GPT2ForSequenceClassification(\n",
       "  (transformer): GPT2Model(\n",
       "    (wte): Embedding(50257, 768)\n",
       "    (wpe): Embedding(1024, 768)\n",
       "    (drop): Dropout(p=0.1, inplace=False)\n",
       "    (h): ModuleList(\n",
       "      (0-11): 12 x GPT2Block(\n",
       "        (ln_1): LayerNorm((768,), eps=1e-05, elementwise_affine=True)\n",
       "        (attn): GPT2SdpaAttention(\n",
       "          (c_attn): Conv1D()\n",
       "          (c_proj): Conv1D()\n",
       "          (attn_dropout): Dropout(p=0.1, inplace=False)\n",
       "          (resid_dropout): Dropout(p=0.1, inplace=False)\n",
       "        )\n",
       "        (ln_2): LayerNorm((768,), eps=1e-05, elementwise_affine=True)\n",
       "        (mlp): GPT2MLP(\n",
       "          (c_fc): Conv1D()\n",
       "          (c_proj): Conv1D()\n",
       "          (act): NewGELUActivation()\n",
       "          (dropout): Dropout(p=0.1, inplace=False)\n",
       "        )\n",
       "      )\n",
       "    )\n",
       "    (ln_f): LayerNorm((768,), eps=1e-05, elementwise_affine=True)\n",
       "  )\n",
       "  (score): Linear(in_features=768, out_features=14, bias=False)\n",
       ")"
      ]
     },
     "execution_count": 28,
     "metadata": {},
     "output_type": "execute_result"
    }
   ],
   "source": [
    "# Move inputs to device (if using GPU)\n",
    "device = torch.device(\"cuda\" if torch.cuda.is_available() else \"cpu\")\n",
    "model.to(device)"
   ]
  },
  {
   "cell_type": "code",
   "execution_count": null,
   "id": "c6b8ed5b-a8d7-48e6-a328-33517b67d6a5",
   "metadata": {},
   "outputs": [],
   "source": [
    "model.eval()\n",
    "with torch.no_grad():\n",
    "    outputs = model(**inputs)"
   ]
  },
  {
   "cell_type": "code",
   "execution_count": null,
   "id": "50491122-fa11-409c-bc44-abf1ef56d8dc",
   "metadata": {},
   "outputs": [],
   "source": []
  }
 ],
 "metadata": {
  "kernelspec": {
   "display_name": "Python 3 (ipykernel)",
   "language": "python",
   "name": "python3"
  },
  "language_info": {
   "codemirror_mode": {
    "name": "ipython",
    "version": 3
   },
   "file_extension": ".py",
   "mimetype": "text/x-python",
   "name": "python",
   "nbconvert_exporter": "python",
   "pygments_lexer": "ipython3",
   "version": "3.12.5"
  }
 },
 "nbformat": 4,
 "nbformat_minor": 5
}
